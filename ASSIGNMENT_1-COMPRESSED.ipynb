{
 "cells": [
  {
   "cell_type": "markdown",
   "id": "20f1a25e",
   "metadata": {},
   "source": [
    "# PROBLEM NO.9 DINEOUT RESTAURANTS"
   ]
  },
  {
   "cell_type": "code",
   "execution_count": null,
   "id": "7eed7e90",
   "metadata": {},
   "outputs": [],
   "source": [
    "from bs4 import BeautifulSoup\n",
    "import requests\n",
    "\n",
    "page = requests.get('https://www.dineout.co.in/chennai-restaurants?search_str=chennai')\n",
    "page"
   ]
  },
  {
   "cell_type": "code",
   "execution_count": null,
   "id": "c63b556d",
   "metadata": {},
   "outputs": [],
   "source": [
    "a = BeautifulSoup(page.content)\n",
    "a"
   ]
  },
  {
   "cell_type": "code",
   "execution_count": null,
   "id": "1388c792",
   "metadata": {},
   "outputs": [],
   "source": [
    "name = a.find('a',class_=\"restnt-name ellipsis\")\n",
    "name.text"
   ]
  },
  {
   "cell_type": "code",
   "execution_count": null,
   "id": "9b295348",
   "metadata": {},
   "outputs": [],
   "source": [
    "cusine = a.find('span',class_=\"double-line-ellipsis\")\n",
    "cusine.text"
   ]
  },
  {
   "cell_type": "code",
   "execution_count": null,
   "id": "dd75f233",
   "metadata": {},
   "outputs": [],
   "source": [
    "cusine.text.split('|')[1]"
   ]
  },
  {
   "cell_type": "code",
   "execution_count": null,
   "id": "8e5998cb",
   "metadata": {},
   "outputs": [],
   "source": [
    "loc = a.find('div',class_='restnt-loc ellipsis')\n",
    "loc.text"
   ]
  },
  {
   "cell_type": "code",
   "execution_count": null,
   "id": "fd7ce220",
   "metadata": {},
   "outputs": [],
   "source": [
    "images = []\n",
    "for i in a.find_all(\"img\",class_=\"no-img\"):\n",
    "    images.append(i.get('data-src'))\n",
    "images"
   ]
  },
  {
   "cell_type": "code",
   "execution_count": null,
   "id": "66dba5a8",
   "metadata": {},
   "outputs": [],
   "source": [
    "print(len(images))"
   ]
  },
  {
   "cell_type": "code",
   "execution_count": null,
   "id": "af59afb5",
   "metadata": {},
   "outputs": [],
   "source": [
    "names = []\n",
    "for i in a.find_all('a',class_=\"restnt-name ellipsis\"):\n",
    "    names.append(i.text)\n",
    "names"
   ]
  },
  {
   "cell_type": "code",
   "execution_count": null,
   "id": "20188dd1",
   "metadata": {},
   "outputs": [],
   "source": [
    "print(len(names))"
   ]
  },
  {
   "cell_type": "code",
   "execution_count": null,
   "id": "6398fb50",
   "metadata": {},
   "outputs": [],
   "source": [
    "cusines = []\n",
    "for i in a.find_all('span',class_=\"double-line-ellipsis\"):\n",
    "    cusines.append(i.text.split('|')[1])\n",
    "cusines"
   ]
  },
  {
   "cell_type": "code",
   "execution_count": null,
   "id": "76d459b8",
   "metadata": {},
   "outputs": [],
   "source": [
    "print(len(cusines))"
   ]
  },
  {
   "cell_type": "code",
   "execution_count": null,
   "id": "03201c20",
   "metadata": {},
   "outputs": [],
   "source": [
    "location = []\n",
    "for i in a.find_all('div',class_='restnt-loc ellipsis'):\n",
    "    location.append(i.text)\n",
    "location"
   ]
  },
  {
   "cell_type": "code",
   "execution_count": null,
   "id": "a834277b",
   "metadata": {},
   "outputs": [],
   "source": [
    "print(len(location))"
   ]
  },
  {
   "cell_type": "code",
   "execution_count": null,
   "id": "19c03cad",
   "metadata": {},
   "outputs": [],
   "source": [
    "import pandas as pd\n",
    "df = pd.DataFrame({'Restaurant Name':names,'Cuisine':cusines,'Location':location,'Image URL':images})\n",
    "df"
   ]
  },
  {
   "cell_type": "markdown",
   "id": "77cdd122",
   "metadata": {},
   "source": [
    "# PROBLEM NO.8 - MOST DOWNLOADED ARTICLES FROM AI "
   ]
  },
  {
   "cell_type": "code",
   "execution_count": null,
   "id": "d25d8592",
   "metadata": {},
   "outputs": [],
   "source": [
    "from bs4 import BeautifulSoup\n",
    "import requests\n",
    "from urllib.request import urlopen\n",
    "html = urlopen('https://www.journals.elsevier.com/artificial-intelligence/most-downloaded-articles')\n",
    "html"
   ]
  },
  {
   "cell_type": "code",
   "execution_count": null,
   "id": "952996e6",
   "metadata": {},
   "outputs": [],
   "source": [
    "bs = BeautifulSoup(html,\"html.parser\")\n",
    "bs"
   ]
  },
  {
   "cell_type": "code",
   "execution_count": null,
   "id": "1d7692df",
   "metadata": {},
   "outputs": [],
   "source": [
    "paper_title = bs.find('h2',class_=\"sc-1qrq3sd-1 gRGSUS sc-1nmom32-0 sc-1nmom32-1 btcbYu goSKRg\")\n",
    "paper_title.text"
   ]
  },
  {
   "cell_type": "code",
   "execution_count": null,
   "id": "251a3e19",
   "metadata": {},
   "outputs": [],
   "source": [
    "author_name = bs.find('span',class_='sc-1w3fpd7-0 dnCnAO')\n",
    "author_name.text"
   ]
  },
  {
   "cell_type": "code",
   "execution_count": null,
   "id": "5452f277",
   "metadata": {},
   "outputs": [],
   "source": [
    "pub_date = bs.find('span',class_='sc-1thf9ly-2 dvggWt')\n",
    "pub_date.text"
   ]
  },
  {
   "cell_type": "code",
   "execution_count": null,
   "id": "d3623d8e",
   "metadata": {},
   "outputs": [],
   "source": [
    "link = bs.find('a',class_='sc-5smygv-0 fIXTHm')\n",
    "link.get('href')"
   ]
  },
  {
   "cell_type": "code",
   "execution_count": null,
   "id": "7edacc0c",
   "metadata": {},
   "outputs": [],
   "source": [
    "pname = []\n",
    "for i in bs.find_all('h2',class_=\"sc-1qrq3sd-1 gRGSUS sc-1nmom32-0 sc-1nmom32-1 btcbYu goSKRg\"):\n",
    "    pname.append(i.text)\n",
    "pname"
   ]
  },
  {
   "cell_type": "code",
   "execution_count": null,
   "id": "89729511",
   "metadata": {},
   "outputs": [],
   "source": [
    "aname = []\n",
    "for i in bs.find_all('span',class_='sc-1w3fpd7-0 dnCnAO'):\n",
    "    aname.append(i.text)\n",
    "aname"
   ]
  },
  {
   "cell_type": "code",
   "execution_count": null,
   "id": "019e5d83",
   "metadata": {},
   "outputs": [],
   "source": [
    "date = []\n",
    "for i in bs.find_all('span',class_='sc-1thf9ly-2 dvggWt'):\n",
    "    date.append(i.text)\n",
    "date"
   ]
  },
  {
   "cell_type": "code",
   "execution_count": null,
   "id": "d2399bdc",
   "metadata": {},
   "outputs": [],
   "source": [
    "plink = []\n",
    "for i in bs.find_all('a',class_='sc-5smygv-0 fIXTHm'):\n",
    "    plink.append(i.get('href'))\n",
    "plink"
   ]
  },
  {
   "cell_type": "code",
   "execution_count": null,
   "id": "cc91a595",
   "metadata": {},
   "outputs": [],
   "source": [
    "import pandas as pd\n",
    "df1 = pd.DataFrame({'Paper Title':pname,'Authors':aname,'Published Date':date,'Paper URL':plink})\n",
    "df1"
   ]
  },
  {
   "cell_type": "markdown",
   "id": "e1b63287",
   "metadata": {},
   "source": [
    "# PROBLEM NO.7 CNBC NEWS"
   ]
  },
  {
   "cell_type": "code",
   "execution_count": null,
   "id": "833fc124",
   "metadata": {},
   "outputs": [],
   "source": [
    "from bs4 import BeautifulSoup\n",
    "import requests"
   ]
  },
  {
   "cell_type": "code",
   "execution_count": null,
   "id": "12ae4ac4",
   "metadata": {},
   "outputs": [],
   "source": [
    "page2 = requests.get('https://www.cnbc.com/world/?region=world')\n",
    "page2"
   ]
  },
  {
   "cell_type": "code",
   "execution_count": null,
   "id": "0085d2de",
   "metadata": {},
   "outputs": [],
   "source": [
    "c = BeautifulSoup(page2.content)\n",
    "c"
   ]
  },
  {
   "cell_type": "code",
   "execution_count": null,
   "id": "18ecdceb",
   "metadata": {},
   "outputs": [],
   "source": [
    "hl = c.find('a',class_='LatestNews-headline')\n",
    "hl.text"
   ]
  },
  {
   "cell_type": "code",
   "execution_count": null,
   "id": "35b54b66",
   "metadata": {},
   "outputs": [],
   "source": [
    "allhl = []\n",
    "for i in c.find_all('a',class_='LatestNews-headline'):\n",
    "    allhl.append(i.text)\n",
    "allhl"
   ]
  },
  {
   "cell_type": "code",
   "execution_count": null,
   "id": "89ffc573",
   "metadata": {},
   "outputs": [],
   "source": [
    "time1 = c.find('time',class_='LatestNews-timestamp')\n",
    "time1.text"
   ]
  },
  {
   "cell_type": "code",
   "execution_count": null,
   "id": "0710befa",
   "metadata": {},
   "outputs": [],
   "source": [
    "newslink = c.find('a',class_='LatestNews-headline')\n",
    "newslink.get('href')"
   ]
  },
  {
   "cell_type": "code",
   "execution_count": null,
   "id": "81329c32",
   "metadata": {},
   "outputs": [],
   "source": [
    "alllink = []\n",
    "for i in c.find_all('a',class_='LatestNews-headline'):\n",
    "    alllink.append(i.get('href'))\n",
    "alllink"
   ]
  },
  {
   "cell_type": "code",
   "execution_count": null,
   "id": "a2f31fcc",
   "metadata": {},
   "outputs": [],
   "source": [
    "alltime1 = []\n",
    "for i in c.find_all('time',class_='LatestNews-timestamp'):\n",
    "    alltime1.append(i.text)\n",
    "alltime1"
   ]
  },
  {
   "cell_type": "code",
   "execution_count": null,
   "id": "8db8c69a",
   "metadata": {},
   "outputs": [],
   "source": [
    "import pandas as pd\n",
    "df2 = pd.DataFrame({'Headline':allhl,'Time':alltime1,'News Link':alllink})\n",
    "df2"
   ]
  },
  {
   "cell_type": "markdown",
   "id": "e3fec313",
   "metadata": {},
   "source": [
    "# PROBLEM NO.2 IMDB TOP 50 MOVIES"
   ]
  },
  {
   "cell_type": "code",
   "execution_count": null,
   "id": "39ff85e3",
   "metadata": {},
   "outputs": [],
   "source": [
    "from bs4 import BeautifulSoup\n",
    "import requests\n",
    "\n",
    "page6 = requests.get('https://www.imdb.com/chart/top/')\n",
    "page6"
   ]
  },
  {
   "cell_type": "code",
   "execution_count": null,
   "id": "d1004c91",
   "metadata": {},
   "outputs": [],
   "source": [
    "f6 = BeautifulSoup(page6.content)\n",
    "f6"
   ]
  },
  {
   "cell_type": "code",
   "execution_count": null,
   "id": "be913f80",
   "metadata": {},
   "outputs": [],
   "source": [
    "mn1 = f6.find('td',class_='titleColumn').a.text\n",
    "mn1"
   ]
  },
  {
   "cell_type": "code",
   "execution_count": null,
   "id": "7da43661",
   "metadata": {},
   "outputs": [],
   "source": [
    "allmn = []\n",
    "for i in f6.find_all('td',class_='titleColumn'):\n",
    "    allmn.append(i.a.text)\n",
    "allmn"
   ]
  },
  {
   "cell_type": "code",
   "execution_count": null,
   "id": "2977f6e9",
   "metadata": {},
   "outputs": [],
   "source": [
    "print(len(allmn))"
   ]
  },
  {
   "cell_type": "code",
   "execution_count": null,
   "id": "17475d1a",
   "metadata": {},
   "outputs": [],
   "source": [
    "my1 = f6.find('td',class_='titleColumn').span.text.strip('()')\n",
    "my1"
   ]
  },
  {
   "cell_type": "code",
   "execution_count": null,
   "id": "ca18d236",
   "metadata": {},
   "outputs": [],
   "source": [
    "allmy = []\n",
    "for i in f6.find_all('td',class_='titleColumn'):\n",
    "    allmy.append(i.span.text.strip('()'))\n",
    "allmy"
   ]
  },
  {
   "cell_type": "code",
   "execution_count": null,
   "id": "3c5d0224",
   "metadata": {},
   "outputs": [],
   "source": [
    "print(len(allmy))"
   ]
  },
  {
   "cell_type": "code",
   "execution_count": null,
   "id": "00bfcb48",
   "metadata": {},
   "outputs": [],
   "source": [
    "mr1 = f6.find('td',class_='ratingColumn imdbRating').strong.text\n",
    "mr1"
   ]
  },
  {
   "cell_type": "code",
   "execution_count": null,
   "id": "7f7cf2aa",
   "metadata": {},
   "outputs": [],
   "source": [
    "allmr = []\n",
    "for i in f6.find_all('td',class_='ratingColumn imdbRating'):\n",
    "    allmr.append(i.strong.text)\n",
    "allmr"
   ]
  },
  {
   "cell_type": "code",
   "execution_count": null,
   "id": "a4db3712",
   "metadata": {},
   "outputs": [],
   "source": [
    "print(len(allmr))"
   ]
  },
  {
   "cell_type": "code",
   "execution_count": null,
   "id": "0ebc8a8b",
   "metadata": {},
   "outputs": [],
   "source": [
    "import pandas as pd\n",
    "df12 = pd.DataFrame({'Movie Name':allmn,'Year of Release':allmy,'Rating for Movie':allmr})\n",
    "df12"
   ]
  },
  {
   "cell_type": "code",
   "execution_count": null,
   "id": "b7005176",
   "metadata": {},
   "outputs": [],
   "source": [
    "df13 = df12.iloc[0:50,:]\n",
    "df13"
   ]
  },
  {
   "cell_type": "markdown",
   "id": "2db6afa3",
   "metadata": {},
   "source": [
    "# PROBLEM NO.3 - IMDB RATING FOR INDIAN MOVIES"
   ]
  },
  {
   "cell_type": "code",
   "execution_count": null,
   "id": "4edf4335",
   "metadata": {},
   "outputs": [],
   "source": [
    "from bs4 import BeautifulSoup\n",
    "import requests\n",
    "\n",
    "page12 = requests.get('https://www.imdb.com/india/top-rated-indian-movies/')\n",
    "page12"
   ]
  },
  {
   "cell_type": "code",
   "execution_count": null,
   "id": "b4377d95",
   "metadata": {},
   "outputs": [],
   "source": [
    "f12 = BeautifulSoup(page12.content)\n",
    "f12"
   ]
  },
  {
   "cell_type": "code",
   "execution_count": null,
   "id": "1f8502c0",
   "metadata": {},
   "outputs": [],
   "source": [
    "imn1 = f12.find('td',class_='titleColumn').a.text\n",
    "imn1"
   ]
  },
  {
   "cell_type": "code",
   "execution_count": null,
   "id": "1c8fbc58",
   "metadata": {},
   "outputs": [],
   "source": [
    "iallmn = []\n",
    "for i in f12.find_all('td',class_='titleColumn'):\n",
    "    iallmn.append(i.a.text)\n",
    "iallmn"
   ]
  },
  {
   "cell_type": "code",
   "execution_count": null,
   "id": "be3de5cd",
   "metadata": {},
   "outputs": [],
   "source": [
    "imy1 = f12.find('td',class_='titleColumn').span.text.strip('()')\n",
    "imy1"
   ]
  },
  {
   "cell_type": "code",
   "execution_count": null,
   "id": "4a074fb0",
   "metadata": {},
   "outputs": [],
   "source": [
    "iallmy = []\n",
    "for i in f12.find_all('td',class_='titleColumn'):\n",
    "    iallmy.append(i.span.text.strip('()'))\n",
    "iallmy"
   ]
  },
  {
   "cell_type": "code",
   "execution_count": null,
   "id": "0a1e0d10",
   "metadata": {},
   "outputs": [],
   "source": [
    "imr1 = f12.find('td',class_='ratingColumn imdbRating').strong.text\n",
    "imr1"
   ]
  },
  {
   "cell_type": "code",
   "execution_count": null,
   "id": "f70135c0",
   "metadata": {},
   "outputs": [],
   "source": [
    "iallmr = []\n",
    "for i in f12.find_all('td',class_='ratingColumn imdbRating'):\n",
    "    iallmr.append(i.strong.text)\n",
    "iallmr"
   ]
  },
  {
   "cell_type": "code",
   "execution_count": null,
   "id": "afe666c6",
   "metadata": {},
   "outputs": [],
   "source": [
    "import pandas as pd\n",
    "df18 = pd.DataFrame({'Movie Name':iallmn,'Year of Release':iallmy,'Rating for Movie':iallmr})\n",
    "df18"
   ]
  },
  {
   "cell_type": "code",
   "execution_count": null,
   "id": "8ed26cef",
   "metadata": {},
   "outputs": [],
   "source": [
    "df20 = df18.iloc[0:50,:]\n",
    "df20"
   ]
  },
  {
   "cell_type": "markdown",
   "id": "c539b1c0",
   "metadata": {},
   "source": [
    "# PROBLEM NO.1 HEADER TAGS IN WIKIPEDIA"
   ]
  },
  {
   "cell_type": "code",
   "execution_count": null,
   "id": "5c072cbb",
   "metadata": {},
   "outputs": [],
   "source": [
    "import requests\n",
    "from bs4 import BeautifulSoup\n",
    "page5 = requests.get('https://en.wikipedia.org/wiki/Main_Page')\n",
    "page5"
   ]
  },
  {
   "cell_type": "code",
   "execution_count": null,
   "id": "4a41fb3b",
   "metadata": {},
   "outputs": [],
   "source": [
    "f = BeautifulSoup(page5.content)\n",
    "f"
   ]
  },
  {
   "cell_type": "code",
   "execution_count": null,
   "id": "7e14dc97",
   "metadata": {},
   "outputs": [],
   "source": [
    "wikiheader = f.find('span',class_='mw-headline')\n",
    "wikiheader.text"
   ]
  },
  {
   "cell_type": "code",
   "execution_count": null,
   "id": "1573a3c9",
   "metadata": {},
   "outputs": [],
   "source": [
    "allwikiheader = []\n",
    "for i in f.find_all('span',class_='mw-headline'):\n",
    "    allwikiheader.append(i.text.strip())\n",
    "allwikiheader"
   ]
  },
  {
   "cell_type": "code",
   "execution_count": null,
   "id": "175f5e7e",
   "metadata": {},
   "outputs": [],
   "source": [
    "import pandas as pd\n",
    "df3 = pd.DataFrame({'Header':allwikiheader})\n",
    "df3"
   ]
  },
  {
   "cell_type": "markdown",
   "id": "50c59c0d",
   "metadata": {},
   "source": [
    "# PROBLEM NO.4 - PRESIDENTS OF INDIA"
   ]
  },
  {
   "cell_type": "code",
   "execution_count": null,
   "id": "ec119e42",
   "metadata": {},
   "outputs": [],
   "source": [
    "from bs4 import BeautifulSoup\n",
    "import requests\n",
    "page15 = requests.get('https://presidentofindia.nic.in/former-presidents.htm')\n",
    "page15"
   ]
  },
  {
   "cell_type": "code",
   "execution_count": null,
   "id": "5dba17fa",
   "metadata": {},
   "outputs": [],
   "source": [
    "b6 = BeautifulSoup(page15.content)\n",
    "b6"
   ]
  },
  {
   "cell_type": "code",
   "execution_count": null,
   "id": "a33a52be",
   "metadata": {},
   "outputs": [],
   "source": [
    "prename = b6.find('h3')\n",
    "prename.text"
   ]
  },
  {
   "cell_type": "code",
   "execution_count": null,
   "id": "e0a1c533",
   "metadata": {},
   "outputs": [],
   "source": [
    "allpresnames = []\n",
    "for i in b6.find_all('h3'):\n",
    "    allpresnames.append(i.text)\n",
    "allpresnames"
   ]
  },
  {
   "cell_type": "code",
   "execution_count": null,
   "id": "b4864ec1",
   "metadata": {},
   "outputs": [],
   "source": [
    "tof = b6.find('p')\n",
    "tof.text"
   ]
  },
  {
   "cell_type": "code",
   "execution_count": null,
   "id": "86df034d",
   "metadata": {},
   "outputs": [],
   "source": [
    "alltof = []\n",
    "for i in b6.find_all('div',class_='presidentListing'):\n",
    "    alltof.append(i.find_all('p')[0].text.split(':')[1])\n",
    "alltof"
   ]
  },
  {
   "cell_type": "code",
   "execution_count": null,
   "id": "19c7e622",
   "metadata": {},
   "outputs": [],
   "source": [
    "import pandas as pd\n",
    "df24 = pd.DataFrame({'President Name':allpresnames,'Term of Office':alltof})\n",
    "df24"
   ]
  },
  {
   "cell_type": "markdown",
   "id": "86076264",
   "metadata": {},
   "source": [
    "# PROBLEM NO.5"
   ]
  },
  {
   "cell_type": "markdown",
   "id": "b6cb8dea",
   "metadata": {},
   "source": [
    "#TOP 10 ODI TEAM IN MEN'S CRICKET"
   ]
  },
  {
   "cell_type": "code",
   "execution_count": null,
   "id": "ff40cefb",
   "metadata": {},
   "outputs": [],
   "source": [
    "from bs4 import BeautifulSoup\n",
    "import requests\n",
    "import pandas as pd\n",
    "\n",
    "page60 = requests.get('https://www.icc-cricket.com/rankings/mens/team-rankings/odi')\n",
    "page60"
   ]
  },
  {
   "cell_type": "code",
   "execution_count": null,
   "id": "0f0cd973",
   "metadata": {},
   "outputs": [],
   "source": [
    "f60 = BeautifulSoup(page60.content)\n",
    "f60"
   ]
  },
  {
   "cell_type": "code",
   "execution_count": null,
   "id": "383353dd",
   "metadata": {},
   "outputs": [],
   "source": [
    "table = f60.find('table',class_='table')\n",
    "headers = table.find_all('th')\n",
    "titles=[]\n",
    "for i in headers:\n",
    "    title = i.text\n",
    "    titles.append(title)\n",
    "titles"
   ]
  },
  {
   "cell_type": "code",
   "execution_count": null,
   "id": "a71c1f0b",
   "metadata": {},
   "outputs": [],
   "source": [
    "df600 = pd.DataFrame(columns=titles)\n",
    "df600"
   ]
  },
  {
   "cell_type": "code",
   "execution_count": null,
   "id": "b1f5d065",
   "metadata": {},
   "outputs": [],
   "source": [
    "rows = table.find_all('tr')\n",
    "print(rows)"
   ]
  },
  {
   "cell_type": "code",
   "execution_count": null,
   "id": "5c2950e0",
   "metadata": {},
   "outputs": [],
   "source": [
    "for i in rows[1:]:\n",
    "    data = i.find_all('td')\n",
    "    row = [tr.text for tr in data]\n",
    "    l=len(df600)\n",
    "    df600.loc[l]=row"
   ]
  },
  {
   "cell_type": "code",
   "execution_count": null,
   "id": "aa006113",
   "metadata": {},
   "outputs": [],
   "source": [
    "df666 = df600.iloc[0:10,:]\n",
    "df666"
   ]
  },
  {
   "cell_type": "markdown",
   "id": "fff6c872",
   "metadata": {},
   "source": [
    "#TOP 10 ODI BATSMEN"
   ]
  },
  {
   "cell_type": "code",
   "execution_count": null,
   "id": "91c79054",
   "metadata": {},
   "outputs": [],
   "source": [
    "from bs4 import BeautifulSoup\n",
    "import requests\n",
    "import pandas as pd\n",
    "\n",
    "page72 = requests.get('https://www.icc-cricket.com/rankings/mens/player-rankings/odi/batting')\n",
    "page72"
   ]
  },
  {
   "cell_type": "code",
   "execution_count": null,
   "id": "1777370e",
   "metadata": {},
   "outputs": [],
   "source": [
    "f72 = BeautifulSoup(page72.content)\n",
    "f72"
   ]
  },
  {
   "cell_type": "code",
   "execution_count": null,
   "id": "1ae64660",
   "metadata": {},
   "outputs": [],
   "source": [
    "table6 = f72.find('table',class_='table rankings-table')\n",
    "headers6 = table6.find_all('th')\n",
    "titles6=[]\n",
    "for i in headers6:\n",
    "    title6 = i.text\n",
    "    titles6.append(title6)\n",
    "titles6"
   ]
  },
  {
   "cell_type": "code",
   "execution_count": null,
   "id": "0b07f7b7",
   "metadata": {},
   "outputs": [],
   "source": [
    "df606 = pd.DataFrame(columns=titles6)\n",
    "df606"
   ]
  },
  {
   "cell_type": "code",
   "execution_count": null,
   "id": "7b74b9c5",
   "metadata": {},
   "outputs": [],
   "source": [
    "rows6 = table6.find_all('tr')\n",
    "print(rows6)"
   ]
  },
  {
   "cell_type": "code",
   "execution_count": null,
   "id": "f8583d68",
   "metadata": {},
   "outputs": [],
   "source": [
    "for j in rows6[1:]:\n",
    "    data6 = j.find_all('td')\n",
    "    row6 = [tr.text for tr in data6]\n",
    "    l6=len(df606)\n",
    "    df606.loc[l6]=row6"
   ]
  },
  {
   "cell_type": "code",
   "execution_count": null,
   "id": "d2e46671",
   "metadata": {},
   "outputs": [],
   "source": [
    "df612 = df606.iloc[0:10,0:4]\n",
    "df612"
   ]
  },
  {
   "cell_type": "markdown",
   "id": "a8471547",
   "metadata": {},
   "source": [
    "#TOP 10 ODI BOWLERS"
   ]
  },
  {
   "cell_type": "code",
   "execution_count": null,
   "id": "2a6055fd",
   "metadata": {},
   "outputs": [],
   "source": [
    "from bs4 import BeautifulSoup\n",
    "import requests\n",
    "import pandas as pd\n",
    "\n",
    "page78 = requests.get('https://www.icc-cricket.com/rankings/mens/player-rankings/odi/bowling')\n",
    "page78"
   ]
  },
  {
   "cell_type": "code",
   "execution_count": null,
   "id": "c86db8f7",
   "metadata": {},
   "outputs": [],
   "source": [
    "f78 = BeautifulSoup(page78.content)\n",
    "f78"
   ]
  },
  {
   "cell_type": "code",
   "execution_count": null,
   "id": "510c7b35",
   "metadata": {},
   "outputs": [],
   "source": [
    "table12 = f78.find('table',class_='table')\n",
    "headers12 = table12.find_all('th')\n",
    "titles12=[]\n",
    "for i in headers12:\n",
    "    title12 = i.text\n",
    "    titles12.append(title12)\n",
    "titles12"
   ]
  },
  {
   "cell_type": "code",
   "execution_count": null,
   "id": "309c1f69",
   "metadata": {},
   "outputs": [],
   "source": [
    "df661 = pd.DataFrame(columns=titles12)\n",
    "df661"
   ]
  },
  {
   "cell_type": "code",
   "execution_count": null,
   "id": "a33e7491",
   "metadata": {},
   "outputs": [],
   "source": [
    "rows12 = table12.find_all('tr')\n",
    "print(rows12)"
   ]
  },
  {
   "cell_type": "code",
   "execution_count": null,
   "id": "303b005f",
   "metadata": {},
   "outputs": [],
   "source": [
    "for k in rows12[1:]:\n",
    "    data12 = k.find_all('td')\n",
    "    row12 = [tr.text for tr in data12]\n",
    "    l12=len(df661)\n",
    "    df661.loc[l12]=row12"
   ]
  },
  {
   "cell_type": "code",
   "execution_count": null,
   "id": "3d4558e5",
   "metadata": {},
   "outputs": [],
   "source": [
    "df662 = df661.iloc[0:10,0:4]\n",
    "df662"
   ]
  },
  {
   "cell_type": "markdown",
   "id": "e2901742",
   "metadata": {},
   "source": [
    "# PROBLEM NO.6"
   ]
  },
  {
   "cell_type": "markdown",
   "id": "860e5b4f",
   "metadata": {},
   "source": [
    "#TOP 10 ODI TEAM IN WOMEN'S CRICKET"
   ]
  },
  {
   "cell_type": "code",
   "execution_count": null,
   "id": "682f8ce4",
   "metadata": {},
   "outputs": [],
   "source": [
    "from bs4 import BeautifulSoup\n",
    "import requests\n",
    "import pandas as pd\n",
    "\n",
    "page84 = requests.get('https://www.icc-cricket.com/rankings/womens/team-rankings/odi')\n",
    "page84"
   ]
  },
  {
   "cell_type": "code",
   "execution_count": null,
   "id": "617ae7b3",
   "metadata": {},
   "outputs": [],
   "source": [
    "f84 = BeautifulSoup(page84.content)\n",
    "f84"
   ]
  },
  {
   "cell_type": "code",
   "execution_count": null,
   "id": "15a1fa2e",
   "metadata": {},
   "outputs": [],
   "source": [
    "table18 = f84.find('table',class_='table')\n",
    "headers18 = table18.find_all('th')\n",
    "titles18=[]\n",
    "for i in headers18:\n",
    "    title18 = i.text\n",
    "    titles18.append(title18)\n",
    "titles18"
   ]
  },
  {
   "cell_type": "code",
   "execution_count": null,
   "id": "3c7fbbf9",
   "metadata": {},
   "outputs": [],
   "source": [
    "df100 = pd.DataFrame(columns=titles18)\n",
    "df100"
   ]
  },
  {
   "cell_type": "code",
   "execution_count": null,
   "id": "3046fb21",
   "metadata": {},
   "outputs": [],
   "source": [
    "rows18 = table18.find_all('tr')\n",
    "print(rows18)"
   ]
  },
  {
   "cell_type": "code",
   "execution_count": null,
   "id": "f0a7a560",
   "metadata": {},
   "outputs": [],
   "source": [
    "for i in rows18[1:]:\n",
    "    data18 = i.find_all('td')\n",
    "    row18 = [tr.text for tr in data18]\n",
    "    l18=len(df100)\n",
    "    df100.loc[l18]=row18"
   ]
  },
  {
   "cell_type": "code",
   "execution_count": null,
   "id": "99707b1b",
   "metadata": {},
   "outputs": [],
   "source": [
    "df101 = df100.iloc[0:10,:]\n",
    "df101"
   ]
  },
  {
   "cell_type": "markdown",
   "id": "17fcfa98",
   "metadata": {},
   "source": [
    "#TOP 10 PLAYERS IN WOMEN'S CRICKET"
   ]
  },
  {
   "cell_type": "code",
   "execution_count": null,
   "id": "b5af71db",
   "metadata": {},
   "outputs": [],
   "source": [
    "from bs4 import BeautifulSoup\n",
    "import requests\n",
    "import pandas as pd\n",
    "\n",
    "page90 = requests.get('https://www.icc-cricket.com/rankings/womens/player-rankings/odi/batting')\n",
    "page90"
   ]
  },
  {
   "cell_type": "code",
   "execution_count": null,
   "id": "cbba5550",
   "metadata": {},
   "outputs": [],
   "source": [
    "f90 = BeautifulSoup(page90.content)\n",
    "f90"
   ]
  },
  {
   "cell_type": "code",
   "execution_count": null,
   "id": "bdf01d0c",
   "metadata": {},
   "outputs": [],
   "source": [
    "table19 = f90.find('table',class_='table rankings-table')\n",
    "headers19 = table19.find_all('th')\n",
    "titles19=[]\n",
    "for i in headers19:\n",
    "    title19 = i.text\n",
    "    titles19.append(title19)\n",
    "titles19"
   ]
  },
  {
   "cell_type": "code",
   "execution_count": null,
   "id": "3224634e",
   "metadata": {},
   "outputs": [],
   "source": [
    "df102 = pd.DataFrame(columns=titles19)\n",
    "df102"
   ]
  },
  {
   "cell_type": "code",
   "execution_count": null,
   "id": "5203f8b9",
   "metadata": {},
   "outputs": [],
   "source": [
    "rows19 = table19.find_all('tr')\n",
    "print(rows19)"
   ]
  },
  {
   "cell_type": "code",
   "execution_count": null,
   "id": "c46853ee",
   "metadata": {},
   "outputs": [],
   "source": [
    "for j in rows19[1:]:\n",
    "    data19 = j.find_all('td')\n",
    "    row19 = [tr.text for tr in data19]\n",
    "    l19=len(df102)\n",
    "    df102.loc[l19]=row19"
   ]
  },
  {
   "cell_type": "code",
   "execution_count": null,
   "id": "4f110a98",
   "metadata": {},
   "outputs": [],
   "source": [
    "df103 = df102.iloc[0:10,0:4]\n",
    "df103"
   ]
  },
  {
   "cell_type": "markdown",
   "id": "8b6c2070",
   "metadata": {},
   "source": [
    "#TOP 10 ALLROUNDERS IN WOMEN'S CRICKET"
   ]
  },
  {
   "cell_type": "code",
   "execution_count": null,
   "id": "59bdf788",
   "metadata": {},
   "outputs": [],
   "source": [
    "from bs4 import BeautifulSoup\n",
    "import requests\n",
    "import pandas as pd\n",
    "\n",
    "page96 = requests.get('https://www.icc-cricket.com/rankings/womens/player-rankings/odi/all-rounder')\n",
    "page96"
   ]
  },
  {
   "cell_type": "code",
   "execution_count": null,
   "id": "d4827672",
   "metadata": {},
   "outputs": [],
   "source": [
    "f96 = BeautifulSoup(page96.content)\n",
    "f96"
   ]
  },
  {
   "cell_type": "code",
   "execution_count": null,
   "id": "76368af9",
   "metadata": {},
   "outputs": [],
   "source": [
    "table20 = f96.find('table',class_='table rankings-table')\n",
    "headers20 = table20.find_all('th')\n",
    "titles20=[]\n",
    "for i in headers20:\n",
    "    title20 = i.text\n",
    "    titles20.append(title20)\n",
    "titles20"
   ]
  },
  {
   "cell_type": "code",
   "execution_count": null,
   "id": "31e99a86",
   "metadata": {},
   "outputs": [],
   "source": [
    "df105 = pd.DataFrame(columns=titles20)\n",
    "df105"
   ]
  },
  {
   "cell_type": "code",
   "execution_count": null,
   "id": "89825498",
   "metadata": {},
   "outputs": [],
   "source": [
    "rows20 = table20.find_all('tr')\n",
    "print(rows20)"
   ]
  },
  {
   "cell_type": "code",
   "execution_count": null,
   "id": "c1871ee7",
   "metadata": {},
   "outputs": [],
   "source": [
    "for k in rows20[1:]:\n",
    "    data20 = k.find_all('td')\n",
    "    row20 = [tr.text for tr in data20]\n",
    "    l20=len(df105)\n",
    "    df105.loc[l20]=row20"
   ]
  },
  {
   "cell_type": "code",
   "execution_count": null,
   "id": "f12be20c",
   "metadata": {},
   "outputs": [],
   "source": [
    "df120 = df105.iloc[0:10,0:4]\n",
    "df120"
   ]
  },
  {
   "cell_type": "code",
   "execution_count": null,
   "id": "5c1fc571",
   "metadata": {},
   "outputs": [],
   "source": []
  }
 ],
 "metadata": {
  "kernelspec": {
   "display_name": "Python 3 (ipykernel)",
   "language": "python",
   "name": "python3"
  },
  "language_info": {
   "codemirror_mode": {
    "name": "ipython",
    "version": 3
   },
   "file_extension": ".py",
   "mimetype": "text/x-python",
   "name": "python",
   "nbconvert_exporter": "python",
   "pygments_lexer": "ipython3",
   "version": "3.9.13"
  }
 },
 "nbformat": 4,
 "nbformat_minor": 5
}
