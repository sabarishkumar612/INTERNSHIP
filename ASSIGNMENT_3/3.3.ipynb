{
 "cells": [
  {
   "cell_type": "code",
   "execution_count": 11,
   "id": "7e023bce",
   "metadata": {},
   "outputs": [],
   "source": [
    "import selenium\n",
    "from bs4 import BeautifulSoup\n",
    "import requests\n",
    "import pandas as pd\n",
    "from selenium import webdriver\n",
    "import warnings\n",
    "warnings.filterwarnings('ignore')\n",
    "from selenium.common.exceptions import StaleElementReferenceException, NoSuchElementException\n",
    "from selenium.webdriver.common.by import By\n",
    "import time"
   ]
  },
  {
   "cell_type": "code",
   "execution_count": 12,
   "id": "c4543f30",
   "metadata": {},
   "outputs": [],
   "source": [
    "driver7=webdriver.Chrome(r\"chromedriver.exe\")  "
   ]
  },
  {
   "cell_type": "code",
   "execution_count": 13,
   "id": "cd242645",
   "metadata": {},
   "outputs": [],
   "source": [
    "driver7.get(\"https://images.google.com\")        "
   ]
  },
  {
   "cell_type": "code",
   "execution_count": 14,
   "id": "ffc254ac",
   "metadata": {},
   "outputs": [],
   "source": [
    "k1=driver7.find_element(By.XPATH,\"/html/body/div[1]/div[3]/form/div[1]/div[1]/div[1]/div/div[2]/input\")\n",
    "k1.send_keys('Machine Learning') "
   ]
  },
  {
   "cell_type": "code",
   "execution_count": 16,
   "id": "cd57ea87",
   "metadata": {},
   "outputs": [],
   "source": [
    "search=driver7.find_element(By.XPATH,\"/html/body/div[1]/div[3]/form/div[1]/div[1]/div[1]/button/div/span\")\n",
    "search.click() "
   ]
  },
  {
   "cell_type": "code",
   "execution_count": 17,
   "id": "6985f3f0",
   "metadata": {},
   "outputs": [],
   "source": [
    "for _ in range(20):\n",
    "    driver7.execute_script(\"window.scrollBy(0,1000)\")"
   ]
  },
  {
   "cell_type": "code",
   "execution_count": 21,
   "id": "6d448194",
   "metadata": {},
   "outputs": [
    {
     "data": {
      "text/plain": [
       "['https://encrypted-tbn0.gstatic.com/images?q=tbn:ANd9GcSGN6aWl4VRifTOYfsLdhU9vKxFZjyLb5D97A&usqp=CAU',\n",
       " 'https://encrypted-tbn0.gstatic.com/images?q=tbn:ANd9GcT1WWL7wLGuheM9I5hIp4pgMt_8w_cggJslng&usqp=CAU',\n",
       " 'https://encrypted-tbn0.gstatic.com/images?q=tbn:ANd9GcRDcahzaEMw6G0YrjLEyXiATgh0dRWSEypgvA&usqp=CAU',\n",
       " 'https://encrypted-tbn0.gstatic.com/images?q=tbn:ANd9GcRy9RMoRJsEplN_ZfTnitrH1Qe6XLi21hKexA&usqp=CAU',\n",
       " 'https://encrypted-tbn0.gstatic.com/images?q=tbn:ANd9GcQrT3TniqvNeIBy5HpWmHVNDtmn1TazaB45wA&usqp=CAU',\n",
       " 'https://encrypted-tbn0.gstatic.com/images?q=tbn:ANd9GcRc_K_a2Mi43uqOMdk36a7J_i_gpeaWBRKkAQ&usqp=CAU',\n",
       " 'https://encrypted-tbn0.gstatic.com/images?q=tbn:ANd9GcTqcn3Xn1l5E6gkH5YYc3BNEKIXYij9IOJb0w&usqp=CAU',\n",
       " 'https://encrypted-tbn0.gstatic.com/images?q=tbn:ANd9GcTDWuhl2pnGvxd7eT7Z3OjOaK6FkWS5ybdwmA&usqp=CAU',\n",
       " 'https://encrypted-tbn0.gstatic.com/images?q=tbn:ANd9GcRymcZb0SeVclKv3gwFjcoq1BZIn4ojwUyqfg&usqp=CAU',\n",
       " 'https://encrypted-tbn0.gstatic.com/images?q=tbn:ANd9GcS5R8TiA_pAPzmc9RSNDvK2cITpLwq_s5ZCMA&usqp=CAU',\n",
       " 'https://encrypted-tbn0.gstatic.com/images?q=tbn:ANd9GcR6LJZbrHwJUYvzFSd9_nIUishTdTdz_9wLTQ&usqp=CAU',\n",
       " 'https://encrypted-tbn0.gstatic.com/images?q=tbn:ANd9GcQRApVsPUgvNA5B90mGHDQPgMfTxHqT4C2gUg&usqp=CAU',\n",
       " 'https://encrypted-tbn0.gstatic.com/images?q=tbn:ANd9GcTpYNmvC3yn7P9Aae_eauaCFTmMk2rdyFFWEw&usqp=CAU',\n",
       " 'https://encrypted-tbn0.gstatic.com/images?q=tbn:ANd9GcRKL8sOTHEICWeRFLmR6XiYp_HDrOfv6pjMMg&usqp=CAU',\n",
       " 'https://encrypted-tbn0.gstatic.com/images?q=tbn:ANd9GcQ0FhCoT0raJMB8zA7-5Jb4PZwIg0LRxLbSzw&usqp=CAU',\n",
       " 'https://encrypted-tbn0.gstatic.com/images?q=tbn:ANd9GcTj02Wy9IYmMlh5sy3SpvinfsBfuOsYj-iSfQ&usqp=CAU',\n",
       " 'https://encrypted-tbn0.gstatic.com/images?q=tbn:ANd9GcRNfq7FthuJM8V7ev3FRCeqqHjmcXLDXlkwng&usqp=CAU',\n",
       " 'https://encrypted-tbn0.gstatic.com/images?q=tbn:ANd9GcQjPdGiVj_8UB-qoex_Q20jucwN6tR4oR7W8Q&usqp=CAU',\n",
       " 'https://encrypted-tbn0.gstatic.com/images?q=tbn:ANd9GcT5zfH0qoN4TX09-pGAlCcFbX9mLAzzP_O6jw&usqp=CAU',\n",
       " 'https://encrypted-tbn0.gstatic.com/images?q=tbn:ANd9GcRkTYa_N4Yw2a81qu1tNyO_IMwsdMEAeIrxrw&usqp=CAU',\n",
       " 'https://encrypted-tbn0.gstatic.com/images?q=tbn:ANd9GcS9IrWwmR-JNqWmksHkpetUP-EiSduFoCgw9w&usqp=CAU',\n",
       " 'https://encrypted-tbn0.gstatic.com/images?q=tbn:ANd9GcQ7ufjTJpwTdH9LmrumVPI--HoOwy3o0i938A&usqp=CAU',\n",
       " 'https://encrypted-tbn0.gstatic.com/images?q=tbn:ANd9GcSl5bFm-JFb5gXpEDTse-tsdcs0FU3nqIyNDg&usqp=CAU',\n",
       " 'https://encrypted-tbn0.gstatic.com/images?q=tbn:ANd9GcTEM3IYW6lBfbJVOZuU3Pt6Ua0OcYFmvpSLSg&usqp=CAU',\n",
       " 'https://encrypted-tbn0.gstatic.com/images?q=tbn:ANd9GcRSAEWorWnGsH6p1ZdU-7GIffD1dtg3Tbsn8A&usqp=CAU',\n",
       " 'https://encrypted-tbn0.gstatic.com/images?q=tbn:ANd9GcTlrRupcFP48cR8T8Lv0nmohh-nsuFWuKy90Q&usqp=CAU',\n",
       " 'https://encrypted-tbn0.gstatic.com/images?q=tbn:ANd9GcQmbTv10k2i8RQFJFDolYGR86eYmLGrZ_4fFA&usqp=CAU',\n",
       " 'https://encrypted-tbn0.gstatic.com/images?q=tbn:ANd9GcSrRz46aBUHH4k31ax64El8Gw2VsFhEaPDsxw&usqp=CAU',\n",
       " 'https://encrypted-tbn0.gstatic.com/images?q=tbn:ANd9GcQ-L5qb4S-8PiD4yjsSRoP4hy5CQik8XxSIKw&usqp=CAU',\n",
       " 'https://encrypted-tbn0.gstatic.com/images?q=tbn:ANd9GcSMknjUywzuH57Alx2s8pcBfHqXUvevlvv6ZQ&usqp=CAU',\n",
       " 'https://encrypted-tbn0.gstatic.com/images?q=tbn:ANd9GcRbx73GoNdziz3A1Pxzk4t6QQAQY7G3TenDug&usqp=CAU',\n",
       " 'https://encrypted-tbn0.gstatic.com/images?q=tbn:ANd9GcSdtgEvb-MJIPygXg2GI05LRIRj2HNNmJOV8Q&usqp=CAU',\n",
       " 'https://encrypted-tbn0.gstatic.com/images?q=tbn:ANd9GcRhOyZMzaDEKkEJP5cbpOECObq3EycuyuLZPw&usqp=CAU',\n",
       " 'https://encrypted-tbn0.gstatic.com/images?q=tbn:ANd9GcRHjrOj_qPcHXkjUKF8470hfszKXa1wL4YjQA&usqp=CAU',\n",
       " 'https://encrypted-tbn0.gstatic.com/images?q=tbn:ANd9GcTxcAs8pLrSZtAPTPb-4W-cjGOsxqjeaQNAsQ&usqp=CAU',\n",
       " 'https://encrypted-tbn0.gstatic.com/images?q=tbn:ANd9GcR0cwf4e-Z5LWElMs437GX1hS8DfKYJY5CDBA&usqp=CAU',\n",
       " 'https://encrypted-tbn0.gstatic.com/images?q=tbn:ANd9GcTMUlYcIQHMIIjw2fALgB4edkOT_r9qDQq9ZQ&usqp=CAU',\n",
       " 'https://encrypted-tbn0.gstatic.com/images?q=tbn:ANd9GcSoGwWya17bwcExfYQlkkcjYkZCvbkY9wgsqA&usqp=CAU',\n",
       " 'https://encrypted-tbn0.gstatic.com/images?q=tbn:ANd9GcTh9yA97jRkJphKklE-G81pRFmzaSBTM4NPFA&usqp=CAU',\n",
       " 'https://encrypted-tbn0.gstatic.com/images?q=tbn:ANd9GcTWO3x0yQYtnztBpamdv7Vmihh4XjGjYPp6nw&usqp=CAU',\n",
       " 'https://encrypted-tbn0.gstatic.com/images?q=tbn:ANd9GcRLimIdunbSbp02tfjj9_MQ4uGYWua6vepSnw&usqp=CAU',\n",
       " 'https://encrypted-tbn0.gstatic.com/images?q=tbn:ANd9GcRT96wV4n_gjjmBL70r8MO_U3G4LL_x7_LA4Q&usqp=CAU',\n",
       " 'https://encrypted-tbn0.gstatic.com/images?q=tbn:ANd9GcRn2OwSlEF65xXRZ9C4IT80ETGgSG3pERmvkg&usqp=CAU',\n",
       " 'https://encrypted-tbn0.gstatic.com/images?q=tbn:ANd9GcTXw2KZfB0otWcC8RNXr1HWnKCdRRr-kykTyw&usqp=CAU',\n",
       " 'https://encrypted-tbn0.gstatic.com/images?q=tbn:ANd9GcT4I_t803HCv-pXjnTth0KbsvLNQqsUoRQLng&usqp=CAU',\n",
       " 'https://encrypted-tbn0.gstatic.com/images?q=tbn:ANd9GcTdSoghPo2oKGVkdC1f0uaxrqFVjd3DmfVNmg&usqp=CAU',\n",
       " 'https://encrypted-tbn0.gstatic.com/images?q=tbn:ANd9GcQon8ctAdIzbccLnnxKfNCwtGzpylYQP3D0Mw&usqp=CAU',\n",
       " 'https://encrypted-tbn0.gstatic.com/images?q=tbn:ANd9GcTBJancPI1PF4VL5pMYw9WpCbov9keYLYnjbA&usqp=CAU',\n",
       " 'https://encrypted-tbn0.gstatic.com/images?q=tbn:ANd9GcQRYpzZMYoh4ok4ZAjAuH-o5OjLQAm7wyvogQ&usqp=CAU',\n",
       " 'https://encrypted-tbn0.gstatic.com/images?q=tbn:ANd9GcQ_uVw4e64h5K_72poIly3qEe1Cna1boZ_z7A&usqp=CAU',\n",
       " 'https://encrypted-tbn0.gstatic.com/images?q=tbn:ANd9GcSLmDfNX98c5c5gAJv8bRIAJpfwlRj5HftqnA&usqp=CAU',\n",
       " 'https://encrypted-tbn0.gstatic.com/images?q=tbn:ANd9GcQFHeWWQ-uYa8MnMUJqb14FHqJ59S0Wu7bvCQ&usqp=CAU',\n",
       " 'https://encrypted-tbn0.gstatic.com/images?q=tbn:ANd9GcT5X8IRZ8Q4TQHqGPtb3xWzF0HBD-M4CzicCQ&usqp=CAU',\n",
       " 'https://encrypted-tbn0.gstatic.com/images?q=tbn:ANd9GcSeMdDAr2gmxIjTbs-06K1itt9eU8Z88CmuTQ&usqp=CAU',\n",
       " 'https://encrypted-tbn0.gstatic.com/images?q=tbn:ANd9GcR5oIdDQZmjkqxiesn6c-DnZjfm3N26igBMsA&usqp=CAU',\n",
       " 'https://encrypted-tbn0.gstatic.com/images?q=tbn:ANd9GcR-jPoQGilX9gKjTTMpqw00YIbw04v0a-oxEQ&usqp=CAU',\n",
       " 'https://encrypted-tbn0.gstatic.com/images?q=tbn:ANd9GcSCINhdYd9WN9Q9uLYnNmN1o209gwlYnWA6_w&usqp=CAU',\n",
       " 'https://encrypted-tbn0.gstatic.com/images?q=tbn:ANd9GcSgvQj8_Fxfvy1TxFy4JfzBWfm9mGU74l7XMQ&usqp=CAU',\n",
       " 'https://encrypted-tbn0.gstatic.com/images?q=tbn:ANd9GcSx7Od_I1PpCMQCLAWuR5ZPoSrSbkbUWa0Hig&usqp=CAU',\n",
       " 'https://encrypted-tbn0.gstatic.com/images?q=tbn:ANd9GcRsIvCiImsRtcfF_KEmPhmzOyx5_s3Ej8J0Gg&usqp=CAU',\n",
       " 'https://encrypted-tbn0.gstatic.com/images?q=tbn:ANd9GcTKrwkwLvW92CPU2iRWEU00HxDEvhSUaM_miQ&usqp=CAU',\n",
       " 'https://encrypted-tbn0.gstatic.com/images?q=tbn:ANd9GcQ4dVGBDlN1NLRoKOpm3--sH3ix1nhgFEMvRg&usqp=CAU',\n",
       " 'https://encrypted-tbn0.gstatic.com/images?q=tbn:ANd9GcQ3jiGa6QhhrsSK-YlHhaqJJvpIalUbcdUEiA&usqp=CAU',\n",
       " 'https://encrypted-tbn0.gstatic.com/images?q=tbn:ANd9GcT-TOfLDBh78vrNqhT3MLz3sdiJVZi1mc-XtQ&usqp=CAU',\n",
       " 'https://encrypted-tbn0.gstatic.com/images?q=tbn:ANd9GcSD5doCAzMJsDDtcMQwbgADIP86NMXWhi3rfA&usqp=CAU',\n",
       " 'https://encrypted-tbn0.gstatic.com/images?q=tbn:ANd9GcRrGoA2Crpg8Xcqacy8jDQELbeolPDWu-GykQ&usqp=CAU',\n",
       " 'https://encrypted-tbn0.gstatic.com/images?q=tbn:ANd9GcRpBt0qnHc9V8fsX8dNW9xpYfk_J8NAyjTWQg&usqp=CAU',\n",
       " 'https://encrypted-tbn0.gstatic.com/images?q=tbn:ANd9GcTueiK8HAijquH6oD63mnTk3Wi-0cEHB65pwQ&usqp=CAU',\n",
       " 'https://encrypted-tbn0.gstatic.com/images?q=tbn:ANd9GcRYOOFmoBrxqT-FzP46PbHO71llIzeiZbSBGA&usqp=CAU',\n",
       " 'https://encrypted-tbn0.gstatic.com/images?q=tbn:ANd9GcS1PVmk8DnoZOt2MnVVemc0AC-TNGSqAlYnoQ&usqp=CAU',\n",
       " 'https://encrypted-tbn0.gstatic.com/images?q=tbn:ANd9GcQQ7tRjNRupTJa_ppHY3OJUJxGKENLrU2ulLQ&usqp=CAU',\n",
       " 'https://encrypted-tbn0.gstatic.com/images?q=tbn:ANd9GcRrjrzle-8qmZnycchv9rRt-KNM-TEQzIQrkQ&usqp=CAU',\n",
       " 'https://encrypted-tbn0.gstatic.com/images?q=tbn:ANd9GcSusXHuPFC1rCwWDg-_SoxB9c6aKs-5IyrAog&usqp=CAU',\n",
       " 'https://encrypted-tbn0.gstatic.com/images?q=tbn:ANd9GcQRKXXM8RTKWzQauY8G79yhrK6CeRMLTpBznQ&usqp=CAU',\n",
       " 'https://encrypted-tbn0.gstatic.com/images?q=tbn:ANd9GcRzj7XX6s5FMWEB3LueLLnOCj2QnpJA8Deg20R8VSdR1nf8eUSly-EexeBCKnw9j6pSGOo&usqp=CAU',\n",
       " 'https://encrypted-tbn0.gstatic.com/images?q=tbn:ANd9GcSUqCdzH68-RwyeoropjfPf_Q7Ok0Vf5g-GLmW9G3wErNVC5pCUGY7g3x8UV91d4dDNRXk&usqp=CAU',\n",
       " 'https://encrypted-tbn0.gstatic.com/images?q=tbn:ANd9GcTaWl25l9QgaK9BaIJL2kPtE2h4QuS1IqWEUpQWdjlIUI3wtQHRCJ4LD9TYmeSPF7pYzzo&usqp=CAU',\n",
       " 'https://encrypted-tbn0.gstatic.com/images?q=tbn:ANd9GcQbg79dDMpPWpHz9Ag_eYSH0mI_E0tmCdeDIom0224YuRFtbNB80Z4eawLuDGjfKgJyZBM&usqp=CAU',\n",
       " 'https://encrypted-tbn0.gstatic.com/images?q=tbn:ANd9GcQSy4Zi9BHeRmWrZArYWmrSqETIscvS2b1prtYCbAmBogep_PIikThyr497PGn128nQjZI&usqp=CAU',\n",
       " 'https://encrypted-tbn0.gstatic.com/images?q=tbn:ANd9GcSCNhOIiQag5g7dopkG3m5RREO-1VYbitauHqJaMtTJ2KA5eLo7V8W0ELvsOEB4mJg0Gdg&usqp=CAU',\n",
       " 'https://encrypted-tbn0.gstatic.com/images?q=tbn:ANd9GcT9-jKxTxB1cV9etp-fNDvE3XLIxVvP2yVFoyJJ5ObRq_ywXa3PqoXqd8pbq1OxNir892I&usqp=CAU',\n",
       " 'https://encrypted-tbn0.gstatic.com/images?q=tbn:ANd9GcRMJKGpOd2s-V_3wSXhyIxKMZRYVBOd740yakCygIocRrDPkoRmylc3dHYWBzDy57JnZY0&usqp=CAU',\n",
       " 'https://encrypted-tbn0.gstatic.com/images?q=tbn:ANd9GcT1C-yLZMWDGM63j7uy55NFwuz4Atp6w0VBS7K6geEfoCVIryiVlMAalMUDvhMN0tv-1u4&usqp=CAU',\n",
       " 'https://encrypted-tbn0.gstatic.com/images?q=tbn:ANd9GcT992rThreq7EQSev_US98dLciTk1vH5z0wWY-uwA0v3oBZ2YRWvVAzkClSdq5WLM53geA&usqp=CAU',\n",
       " 'https://encrypted-tbn0.gstatic.com/images?q=tbn:ANd9GcQGduY3hjWmdcZOWOWxT3yWi8S-1ooTMdPcSJqjzvXA10r2ND-dAbDXgKfYk1w9VbdKnBk&usqp=CAU',\n",
       " 'https://encrypted-tbn0.gstatic.com/images?q=tbn:ANd9GcTR3EPoRFNWQAdk-Qnq3YNRs2p5-gXcDZdmen3UhFEQKa5EseTg-wElCxawUF2VP7qBODQ&usqp=CAU',\n",
       " 'https://encrypted-tbn0.gstatic.com/images?q=tbn:ANd9GcRBdac3bA3DQeqLdUv4VVfjx9KoZ_84UIZDb9j094klfH3M213eE-AVrmBSnSdyZ7GlcMs&usqp=CAU',\n",
       " 'https://encrypted-tbn0.gstatic.com/images?q=tbn:ANd9GcT_NVV7bmiL4k_TRV_q30P2ugjslgcIxlexkHxWhRnwAM5qpKWRv0EfWDfrlGm6vhtlMhk&usqp=CAU',\n",
       " 'https://encrypted-tbn0.gstatic.com/images?q=tbn:ANd9GcTYEER_uwEOA7mbOmUqmeboku5qeiY4_gkJfrHXOA4VCkRRBUUmeh3tg-FJ_9zsIpjyGPo&usqp=CAU',\n",
       " 'https://encrypted-tbn0.gstatic.com/images?q=tbn:ANd9GcQ9NEy3TVEUc9bnrm4xnvMRK_-1Egay3LzHOe8WLZ9XJLwyKA_QfMHdYUQQxJ3T04qOkvw&usqp=CAU',\n",
       " 'https://encrypted-tbn0.gstatic.com/images?q=tbn:ANd9GcS_Yb3c7rwEhI7aHvdNVCJepu-NyJFHd7MxNsxuB3spnXg04MoYr8cLFSA8qvRmqEa6xO4&usqp=CAU',\n",
       " 'https://encrypted-tbn0.gstatic.com/images?q=tbn:ANd9GcQhYr1G1v-VMhNURIyBZ6zZBFiVDA93EsMTZNOskRfodrc7sXr2AwkZn7jBGePNlpJS0RA&usqp=CAU',\n",
       " 'https://encrypted-tbn0.gstatic.com/images?q=tbn:ANd9GcRiRU-8bw1CDz1389LCIJPrR_lJ6CpDgcC3yP8iMBo6DecZknNMGbpnqBW-Fn_GEDi9Xmk&usqp=CAU',\n",
       " 'https://encrypted-tbn0.gstatic.com/images?q=tbn:ANd9GcTXmb-MNMkqaFmxWlF8Jk3YR0eEf0dKm0qSRCD4Esx3WynnvGt9T05W3BPysUBBdYPuUAg&usqp=CAU',\n",
       " 'https://encrypted-tbn0.gstatic.com/images?q=tbn:ANd9GcRqCzFPiiu-8PsVkTOChSzLjzFR2xzPo9-Lmg&usqp=CAU',\n",
       " 'https://encrypted-tbn0.gstatic.com/images?q=tbn:ANd9GcTwDouj4RDpkjvqUf29_2ydJk3CyM9-oCH81A&usqp=CAU',\n",
       " 'https://encrypted-tbn0.gstatic.com/images?q=tbn:ANd9GcT5xNEV43ybV3OAJ-ttWXpdd6qEfghiJb8BTw&usqp=CAU',\n",
       " 'https://encrypted-tbn0.gstatic.com/images?q=tbn:ANd9GcRvt6Qtg7SsuHAUOqR3Sf_RAFbosRQbgY-9uw&usqp=CAU',\n",
       " 'https://encrypted-tbn0.gstatic.com/images?q=tbn:ANd9GcSNa_zyMfpqXraWGKqhwZ54ju0IRoHRKg1JmQ&usqp=CAU',\n",
       " 'https://encrypted-tbn0.gstatic.com/images?q=tbn:ANd9GcQw2lFI_l3PeIuau5sjBsx18Ypr1reEZOvTSQ&usqp=CAU',\n",
       " 'https://encrypted-tbn0.gstatic.com/images?q=tbn:ANd9GcR3sKl6Q26NagM0o3Yy_sdiJ7ixmYKUYNLZWg&usqp=CAU',\n",
       " 'https://encrypted-tbn0.gstatic.com/images?q=tbn:ANd9GcRNpS2Y_BJ0HZjXyBx4Fmb16eYqgW33sp5ngQ&usqp=CAU',\n",
       " 'https://encrypted-tbn0.gstatic.com/images?q=tbn:ANd9GcQR_uv6oCw_7lmpBWlu3V9Gs0wcAg8ea6N_EQ&usqp=CAU',\n",
       " 'https://encrypted-tbn0.gstatic.com/images?q=tbn:ANd9GcRX9JRK64BBK_l3Mqnphr-5Zedl73pEljByrA&usqp=CAU',\n",
       " 'https://encrypted-tbn0.gstatic.com/images?q=tbn:ANd9GcSvCNuu9ENSYS3wKazCmdLC1p3zfaD47DJZUg&usqp=CAU',\n",
       " 'https://encrypted-tbn0.gstatic.com/images?q=tbn:ANd9GcSVLjHlRKoIUxcMgQUf4vYQ84IU8Gi1jyZ_sA&usqp=CAU',\n",
       " 'https://encrypted-tbn0.gstatic.com/images?q=tbn:ANd9GcSpxiv9B4TQFogI4d3eVWJ7D10iSOxelaiEDw&usqp=CAU',\n",
       " 'https://encrypted-tbn0.gstatic.com/images?q=tbn:ANd9GcRIqWXMy2AAdFES_pbFVdzk-NPsH3X9Wwq8Eg&usqp=CAU']"
      ]
     },
     "execution_count": 21,
     "metadata": {},
     "output_type": "execute_result"
    }
   ],
   "source": [
    "img_urls=[]\n",
    "images=driver7.find_elements(By.XPATH,'//img[@class=\"rg_i Q4LuWd\"]')\n",
    "for image in images:\n",
    "    source=image.get_attribute('src')\n",
    "    if source is not None:\n",
    "        if(source[0:4]=='http'):\n",
    "            img_urls.append(source)\n",
    "img_urls"
   ]
  },
  {
   "cell_type": "code",
   "execution_count": 22,
   "id": "2738e842",
   "metadata": {},
   "outputs": [
    {
     "name": "stdout",
     "output_type": "stream",
     "text": [
      "108\n"
     ]
    }
   ],
   "source": [
    "print(len(img_urls))"
   ]
  },
  {
   "cell_type": "code",
   "execution_count": 23,
   "id": "a81cf6d8",
   "metadata": {},
   "outputs": [
    {
     "name": "stdout",
     "output_type": "stream",
     "text": [
      "Downloading 0 if 10 images\n",
      "Downloading 1 if 10 images\n",
      "Downloading 2 if 10 images\n",
      "Downloading 3 if 10 images\n",
      "Downloading 4 if 10 images\n",
      "Downloading 5 if 10 images\n",
      "Downloading 6 if 10 images\n",
      "Downloading 7 if 10 images\n",
      "Downloading 8 if 10 images\n",
      "Downloading 9 if 10 images\n"
     ]
    }
   ],
   "source": [
    "for i in range(0,10):\n",
    "    print(\"Downloading {0} if {1} images\" .format(i,10))\n",
    "    response=requests.get(img_urls[i])\n",
    "    file=open(r\"C:\\SABARISH\\INTERSHIP\\ASSIGNMENT 3.3\"+str(i)+\".jpg\", \"wb\")\n",
    "    file.write(response.content)"
   ]
  },
  {
   "cell_type": "code",
   "execution_count": null,
   "id": "e69dcb2b",
   "metadata": {},
   "outputs": [],
   "source": []
  },
  {
   "cell_type": "code",
   "execution_count": null,
   "id": "8a8e85af",
   "metadata": {},
   "outputs": [],
   "source": []
  },
  {
   "cell_type": "code",
   "execution_count": null,
   "id": "451f3d46",
   "metadata": {},
   "outputs": [],
   "source": []
  }
 ],
 "metadata": {
  "kernelspec": {
   "display_name": "Python 3 (ipykernel)",
   "language": "python",
   "name": "python3"
  },
  "language_info": {
   "codemirror_mode": {
    "name": "ipython",
    "version": 3
   },
   "file_extension": ".py",
   "mimetype": "text/x-python",
   "name": "python",
   "nbconvert_exporter": "python",
   "pygments_lexer": "ipython3",
   "version": "3.9.13"
  }
 },
 "nbformat": 4,
 "nbformat_minor": 5
}
