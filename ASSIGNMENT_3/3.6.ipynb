{
 "cells": [
  {
   "cell_type": "code",
   "execution_count": 23,
   "id": "c847f3f5",
   "metadata": {},
   "outputs": [],
   "source": [
    "import selenium\n",
    "import pandas as pd\n",
    "from selenium import webdriver\n",
    "import warnings\n",
    "warnings.filterwarnings('ignore')\n",
    "from selenium.common.exceptions import StaleElementReferenceException, NoSuchElementException\n",
    "from selenium.webdriver.common.by import By\n",
    "import time"
   ]
  },
  {
   "cell_type": "code",
   "execution_count": 24,
   "id": "4688e0ca",
   "metadata": {},
   "outputs": [],
   "source": [
    "driver9=webdriver.Chrome(r\"chromedriver.exe\")"
   ]
  },
  {
   "cell_type": "code",
   "execution_count": 25,
   "id": "d7b209ab",
   "metadata": {},
   "outputs": [],
   "source": [
    "driver9.get(\"https://www.digit.in/\")"
   ]
  },
  {
   "cell_type": "code",
   "execution_count": 26,
   "id": "7e49813b",
   "metadata": {},
   "outputs": [],
   "source": [
    "search91=driver9.find_element(By.XPATH,\"/html/body/div[1]/div/div[4]/ul/li[4]/a\")\n",
    "search91.click()"
   ]
  },
  {
   "cell_type": "code",
   "execution_count": 27,
   "id": "1e1e9b05",
   "metadata": {},
   "outputs": [],
   "source": [
    "search92=driver9.find_element(By.XPATH,\"/html/body/div[7]/div/div/div[2]/div[5]/div[1]/div/button[2]\")\n",
    "search92.click()"
   ]
  },
  {
   "cell_type": "code",
   "execution_count": 28,
   "id": "9bdb6c86",
   "metadata": {},
   "outputs": [],
   "source": [
    "search93=driver9.find_element(By.XPATH,\"/html/body/div[7]/div/div/div[2]/div[5]/div[3]/div[3]/a/div[2]/p\")\n",
    "search93.click()"
   ]
  },
  {
   "cell_type": "code",
   "execution_count": 13,
   "id": "3bb60c5f",
   "metadata": {},
   "outputs": [
    {
     "data": {
      "text/plain": [
       "['https://www.digit.in/laptops/msi-titan-gt77-12uhs-12th-gen-core-i9-12900hx-2022-price-303891.html',\n",
       " 'https://www.digit.in/laptops/lenovo-legion-7-82td009kin-12th-gen-core-i9-12900hx-2022-price-339045.html',\n",
       " 'https://www.digit.in/laptops/dell-new-alienware-x17-r2-d569944win9-12th-gen-core-i9-12900hk-2022-price-309253.html',\n",
       " 'https://www.digit.in/laptops/acer-predator-triton-500-se-pt516-52s-12th-gen-core-i7-12700h-2022-price-328956.html',\n",
       " 'https://www.digit.in/laptops/omen-by-hp-16-b1371tx-12th-gen-core-i7-12700h-2022-price-290829.html',\n",
       " 'https://www.digit.in/laptops/acer-nitro-5-an515-45-nh-qbrsi-007-ryzen-9-5900hx-2022-price-305725.html',\n",
       " 'https://www.digit.in/laptops/msi-delta-15-5th-gen-ryzen-9-5900hx-2022-price-288855.html',\n",
       " 'https://www.digit.in/laptops/hp-omen-16-c0141ax-ryzen-9-5900hx-2022-price-289331.html',\n",
       " 'https://www.digit.in/laptops/lenovo-legion-5-pro-82rf00mgin-12th-gen-core-i7-12700h-2022-price-311997.html',\n",
       " 'https://www.digit.in/laptops/dell-alienware-m15-r5-gaming-ryzen-r7-5800h-2022-price-288001.html']"
      ]
     },
     "execution_count": 13,
     "metadata": {},
     "output_type": "execute_result"
    }
   ],
   "source": [
    "url9=[]\n",
    "u9=driver9.find_elements(By.XPATH,'//div[@class=\"left_side\"]/a')\n",
    "for i in u9:\n",
    "    url9.append(i.get_attribute('href'))\n",
    "    time.sleep(3)\n",
    "url9"
   ]
  },
  {
   "cell_type": "code",
   "execution_count": 14,
   "id": "bfb50ceb",
   "metadata": {},
   "outputs": [
    {
     "name": "stdout",
     "output_type": "stream",
     "text": [
      "10\n"
     ]
    }
   ],
   "source": [
    "print(len(url9))"
   ]
  },
  {
   "cell_type": "code",
   "execution_count": 15,
   "id": "49084210",
   "metadata": {},
   "outputs": [
    {
     "data": {
      "text/plain": [
       "['MSI Titan GT77 12UHS 12th Gen Core i9-12900HX (2022)',\n",
       " 'Lenovo Legion 7 82TD009KIN 12th Gen Core i9-12900HX (2022)',\n",
       " 'Dell New Alienware x17 R2 D569944WIN9 12th Gen Core i9-12900HK (2022)',\n",
       " 'Acer Predator Triton 500 SE PT516-52s 12th Gen Core i7-12700H (2022)',\n",
       " 'HP OMEN 16-B1371TX 12th Gen core i7-12700H (2022)',\n",
       " 'Acer Nitro 5 AN515-45 NH.QBRSI.007 Ryzen 9-5900HX (2022)',\n",
       " 'MSI Delta 15 Advantage Edition A5EFK-083IN Ryzen 9-5900HX (2022)',\n",
       " 'HP Omen 16-C0141AX Ryzen 9 5900HX (2022)',\n",
       " 'Lenovo Legion 5 Pro 82RF00MGIN 12th Gen Core i7-12700H (2022)',\n",
       " 'DELL ALIENWARE M15 R5 GAMING Ryzen R7-5800H (2022)']"
      ]
     },
     "execution_count": 15,
     "metadata": {},
     "output_type": "execute_result"
    }
   ],
   "source": [
    "product9=[]\n",
    "for i in url9:\n",
    "    driver9.get(i)\n",
    "    time.sleep(3)\n",
    "    try:\n",
    "        name9=driver9.find_element(By.XPATH,'//div[@class=\"heading-wraper\"]/h1')\n",
    "        product9.append(name9.text)\n",
    "    except NoSuchElementException:\n",
    "        product9.append('-')\n",
    "product9"
   ]
  },
  {
   "cell_type": "code",
   "execution_count": 16,
   "id": "f5d370ef",
   "metadata": {},
   "outputs": [
    {
     "data": {
      "text/plain": [
       "['Windows 11 Home',\n",
       " 'Windows 11 Home',\n",
       " 'Windows 11 Home',\n",
       " 'Windows 11',\n",
       " 'Windows 11 Home',\n",
       " 'Windows 11 Home',\n",
       " 'Windows 11 Home',\n",
       " 'Windows 11 Home',\n",
       " 'Windows 11 Home',\n",
       " 'Windows 11 Home']"
      ]
     },
     "execution_count": 16,
     "metadata": {},
     "output_type": "execute_result"
    }
   ],
   "source": [
    "os9=[]\n",
    "for i in url9:\n",
    "    driver9.get(i)\n",
    "    time.sleep(3)\n",
    "    try:\n",
    "        ops9=driver9.find_element(By.XPATH,'//div[@class=\"value\"]/p[2]/strong[1]')\n",
    "        os9.append(ops9.text)\n",
    "    except NoSuchElementException:\n",
    "        os9.append('-')\n",
    "os9"
   ]
  },
  {
   "cell_type": "code",
   "execution_count": 17,
   "id": "15e2fd6e",
   "metadata": {},
   "outputs": [
    {
     "data": {
      "text/plain": [
       "['17.3\" (3840 X 2160)',\n",
       " '16\" (2560 X 1600)',\n",
       " '17.3\" (1920 X 1080)',\n",
       " '16\" (2560 X 1600)',\n",
       " '16.1\" (2560 X 1440)',\n",
       " '15.6\" (2560 X 1440)',\n",
       " '15.6\" (1920 X 1080)',\n",
       " '16.1\" (2560 X 1440)',\n",
       " '16\" (2560 X 1600)',\n",
       " '15.6\" (1920 X 1080)']"
      ]
     },
     "execution_count": 17,
     "metadata": {},
     "output_type": "execute_result"
    }
   ],
   "source": [
    "dis9=[]\n",
    "for i in url9:\n",
    "    driver9.get(i)\n",
    "    time.sleep(3)\n",
    "    try:\n",
    "        display9=driver9.find_element(By.XPATH,'//div[@class=\"specs_details \"]/ul/li[2]/div/p[2]/strong')\n",
    "        dis9.append(display9.text)\n",
    "    except NoSuchElementException:\n",
    "        dis9.append('-')\n",
    "dis9"
   ]
  },
  {
   "cell_type": "code",
   "execution_count": 19,
   "id": "2de31697",
   "metadata": {},
   "outputs": [
    {
     "data": {
      "text/plain": [
       "['12th Gen Intel Core I9-12900HX ',\n",
       " '12th Gen Intel Core I9-12900HX ',\n",
       " '12th Gen Intel Core I9-12900H ',\n",
       " '12th Gen Intel Core I7-12700H ',\n",
       " '12th Gen Intel Core I7-12700H ',\n",
       " 'AMD Ryzen 9-5900HX ',\n",
       " 'AMD 5th Gen Ryzen 9-5900HX ',\n",
       " 'AMD Ryzen™ 9 5900HX ',\n",
       " '12th Gen Intel Core I7-12700H ',\n",
       " 'AMD Ryzen R7-5800H ']"
      ]
     },
     "execution_count": 19,
     "metadata": {},
     "output_type": "execute_result"
    }
   ],
   "source": [
    "pro9=[]\n",
    "for i in url9:\n",
    "    driver9.get(i)\n",
    "    time.sleep(3)\n",
    "    try:\n",
    "        pros9=driver9.find_element(By.XPATH,'//div[@class=\"specs_details \"]/ul/li[3]/div/p[2]/strong')\n",
    "        pro9.append(pros9.text.split('|')[0])\n",
    "    except NoSuchElementException:\n",
    "        pro9.append('-')\n",
    "pro9"
   ]
  },
  {
   "cell_type": "code",
   "execution_count": 20,
   "id": "83d06959",
   "metadata": {},
   "outputs": [
    {
     "data": {
      "text/plain": [
       "['2 TB SSD/64 GB DDR5',\n",
       " '1 TB SSD/32 GB DDR4',\n",
       " '1 TB SSD/32 GB DDR5',\n",
       " '2 TB SSD/32 GB DDR5',\n",
       " '1 TB SSD/8 GB DDR5',\n",
       " '512 GB SSD/16 GB DDR4',\n",
       " '1 TB SSD/16 GB DDR4',\n",
       " '1 TB NVMe/16 GB DDR4',\n",
       " '1 TB SSD/16 GB DDR5',\n",
       " '512 GB SSD/16 GB DDR4']"
      ]
     },
     "execution_count": 20,
     "metadata": {},
     "output_type": "execute_result"
    }
   ],
   "source": [
    "mem9=[]\n",
    "for i in url9:\n",
    "    driver9.get(i)\n",
    "    time.sleep(3)\n",
    "    try:\n",
    "        meme9=driver9.find_element(By.XPATH,'//div[@class=\"specs_details \"]/ul/li[4]/div/p[2]/strong')\n",
    "        mem9.append(meme9.text)\n",
    "    except NoSuchElementException:\n",
    "        mem9.append('-')\n",
    "mem9"
   ]
  },
  {
   "cell_type": "code",
   "execution_count": 21,
   "id": "2bd70d44",
   "metadata": {},
   "outputs": [
    {
     "data": {
      "text/plain": [
       "['-',\n",
       " '₹ 503,890',\n",
       " '₹ 389,990',\n",
       " '₹ 229,990',\n",
       " '₹ 176,490',\n",
       " '₹ 172,999',\n",
       " '₹ 188,990',\n",
       " '₹ 124,990',\n",
       " '₹ 167,990',\n",
       " '₹ 174,000']"
      ]
     },
     "execution_count": 21,
     "metadata": {},
     "output_type": "execute_result"
    }
   ],
   "source": [
    "pr9=[]\n",
    "for i in url9:\n",
    "    driver9.get(i)\n",
    "    time.sleep(3)\n",
    "    try:\n",
    "        pric9=driver9.find_element(By.XPATH,'//div[@class=\"price\"]/h2/strong')\n",
    "        pr9.append(pric9.text)\n",
    "    except NoSuchElementException:\n",
    "        pr9.append('-')\n",
    "pr9"
   ]
  },
  {
   "cell_type": "code",
   "execution_count": 30,
   "id": "e6f87535",
   "metadata": {},
   "outputs": [
    {
     "data": {
      "text/plain": [
       "['4 Cell',\n",
       " '3 Cell 99.99 WHr',\n",
       " '6 Cell, 87 Wh',\n",
       " '4 Cell',\n",
       " '6 Cell',\n",
       " '4 Cell 57.5 Wh Lithium Ion',\n",
       " '4 Cell',\n",
       " '8 Hours',\n",
       " '4 Hours',\n",
       " '86 Wh, integrated']"
      ]
     },
     "execution_count": 30,
     "metadata": {},
     "output_type": "execute_result"
    }
   ],
   "source": [
    "bt9=[]\n",
    "for i in url9:\n",
    "    driver9.get(i)\n",
    "    time.sleep(3)\n",
    "    try:\n",
    "        battyp9=driver9.find_element(By.XPATH,'//div[@class=\"tabcontentother\"][2]/div[2]/table/tbody/tr/td[3]')\n",
    "        bt9.append(battyp9.text)\n",
    "    except NoSuchElementException:\n",
    "        bt9.append('-')\n",
    "bt9"
   ]
  },
  {
   "cell_type": "code",
   "execution_count": 31,
   "id": "b9599ba0",
   "metadata": {},
   "outputs": [
    {
     "data": {
      "text/plain": [
       "['3840 x 2160',\n",
       " '2560 x 1600',\n",
       " '1920 x 1080',\n",
       " '2560 x 1600',\n",
       " '2560 x 1440',\n",
       " '2560 x 1440',\n",
       " '1920 x 1080',\n",
       " '2560 x 1440',\n",
       " '2560 x 1600',\n",
       " '1920 x 1080']"
      ]
     },
     "execution_count": 31,
     "metadata": {},
     "output_type": "execute_result"
    }
   ],
   "source": [
    "res9=[]\n",
    "for i in url9:\n",
    "    driver9.get(i)\n",
    "    time.sleep(3)\n",
    "    try:\n",
    "        resol9=driver9.find_element(By.XPATH,'//div[@class=\"tabcontentother\"][1]/div[2]/table/tbody/tr/td[3]')\n",
    "        res9.append(resol9.text)\n",
    "    except NoSuchElementException:\n",
    "        res9.append('-')\n",
    "res9"
   ]
  },
  {
   "cell_type": "code",
   "execution_count": 32,
   "id": "1fc4514c",
   "metadata": {},
   "outputs": [
    {
     "data": {
      "text/plain": [
       "['DDR6',\n",
       " 'NVIDIA GeForce RTX 3080 Ti',\n",
       " 'NVIDIA GEFORCE RTX 3080 Ti',\n",
       " 'NVIDIA GeForce RTX 3070 Ti',\n",
       " 'NVIDIA GeForce RTX 3070',\n",
       " 'DDR6',\n",
       " 'AMD Radeon RX 6700M',\n",
       " 'AMD Radeon™ RX 6600M',\n",
       " 'NVIDIA GeForce RTX 3060',\n",
       " 'NVIDIA GeForce RTX 3060']"
      ]
     },
     "execution_count": 32,
     "metadata": {},
     "output_type": "execute_result"
    }
   ],
   "source": [
    "gp9=[]\n",
    "for i in url9:\n",
    "    driver9.get(i)\n",
    "    time.sleep(3)\n",
    "    try:\n",
    "        grpr9=driver9.find_element(By.XPATH,'//div[@class=\"tabcontentother\"][1]/div[6]/table/tbody/tr[4]/td[3]')\n",
    "        gp9.append(grpr9.text)\n",
    "    except NoSuchElementException:\n",
    "        gp9.append('-')\n",
    "gp9"
   ]
  },
  {
   "cell_type": "code",
   "execution_count": 33,
   "id": "80f7a56d",
   "metadata": {},
   "outputs": [
    {
     "data": {
      "text/html": [
       "<div>\n",
       "<style scoped>\n",
       "    .dataframe tbody tr th:only-of-type {\n",
       "        vertical-align: middle;\n",
       "    }\n",
       "\n",
       "    .dataframe tbody tr th {\n",
       "        vertical-align: top;\n",
       "    }\n",
       "\n",
       "    .dataframe thead th {\n",
       "        text-align: right;\n",
       "    }\n",
       "</style>\n",
       "<table border=\"1\" class=\"dataframe\">\n",
       "  <thead>\n",
       "    <tr style=\"text-align: right;\">\n",
       "      <th></th>\n",
       "      <th>Laptop Model</th>\n",
       "      <th>Price</th>\n",
       "      <th>Operating System</th>\n",
       "      <th>Display</th>\n",
       "      <th>Processor</th>\n",
       "      <th>Graphic Processor</th>\n",
       "      <th>Memory</th>\n",
       "      <th>Battery Type</th>\n",
       "      <th>Resolution</th>\n",
       "    </tr>\n",
       "  </thead>\n",
       "  <tbody>\n",
       "    <tr>\n",
       "      <th>0</th>\n",
       "      <td>MSI Titan GT77 12UHS 12th Gen Core i9-12900HX ...</td>\n",
       "      <td>-</td>\n",
       "      <td>Windows 11 Home</td>\n",
       "      <td>17.3\" (3840 X 2160)</td>\n",
       "      <td>12th Gen Intel Core I9-12900HX</td>\n",
       "      <td>DDR6</td>\n",
       "      <td>2 TB SSD/64 GB DDR5</td>\n",
       "      <td>4 Cell</td>\n",
       "      <td>3840 x 2160</td>\n",
       "    </tr>\n",
       "    <tr>\n",
       "      <th>1</th>\n",
       "      <td>Lenovo Legion 7 82TD009KIN 12th Gen Core i9-12...</td>\n",
       "      <td>₹ 503,890</td>\n",
       "      <td>Windows 11 Home</td>\n",
       "      <td>16\" (2560 X 1600)</td>\n",
       "      <td>12th Gen Intel Core I9-12900HX</td>\n",
       "      <td>NVIDIA GeForce RTX 3080 Ti</td>\n",
       "      <td>1 TB SSD/32 GB DDR4</td>\n",
       "      <td>3 Cell 99.99 WHr</td>\n",
       "      <td>2560 x 1600</td>\n",
       "    </tr>\n",
       "    <tr>\n",
       "      <th>2</th>\n",
       "      <td>Dell New Alienware x17 R2 D569944WIN9 12th Gen...</td>\n",
       "      <td>₹ 389,990</td>\n",
       "      <td>Windows 11 Home</td>\n",
       "      <td>17.3\" (1920 X 1080)</td>\n",
       "      <td>12th Gen Intel Core I9-12900H</td>\n",
       "      <td>NVIDIA GEFORCE RTX 3080 Ti</td>\n",
       "      <td>1 TB SSD/32 GB DDR5</td>\n",
       "      <td>6 Cell, 87 Wh</td>\n",
       "      <td>1920 x 1080</td>\n",
       "    </tr>\n",
       "    <tr>\n",
       "      <th>3</th>\n",
       "      <td>Acer Predator Triton 500 SE PT516-52s 12th Gen...</td>\n",
       "      <td>₹ 229,990</td>\n",
       "      <td>Windows 11</td>\n",
       "      <td>16\" (2560 X 1600)</td>\n",
       "      <td>12th Gen Intel Core I7-12700H</td>\n",
       "      <td>NVIDIA GeForce RTX 3070 Ti</td>\n",
       "      <td>2 TB SSD/32 GB DDR5</td>\n",
       "      <td>4 Cell</td>\n",
       "      <td>2560 x 1600</td>\n",
       "    </tr>\n",
       "    <tr>\n",
       "      <th>4</th>\n",
       "      <td>HP OMEN 16-B1371TX 12th Gen core i7-12700H (2022)</td>\n",
       "      <td>₹ 176,490</td>\n",
       "      <td>Windows 11 Home</td>\n",
       "      <td>16.1\" (2560 X 1440)</td>\n",
       "      <td>12th Gen Intel Core I7-12700H</td>\n",
       "      <td>NVIDIA GeForce RTX 3070</td>\n",
       "      <td>1 TB SSD/8 GB DDR5</td>\n",
       "      <td>6 Cell</td>\n",
       "      <td>2560 x 1440</td>\n",
       "    </tr>\n",
       "    <tr>\n",
       "      <th>5</th>\n",
       "      <td>Acer Nitro 5 AN515-45 NH.QBRSI.007 Ryzen 9-590...</td>\n",
       "      <td>₹ 172,999</td>\n",
       "      <td>Windows 11 Home</td>\n",
       "      <td>15.6\" (2560 X 1440)</td>\n",
       "      <td>AMD Ryzen 9-5900HX</td>\n",
       "      <td>DDR6</td>\n",
       "      <td>512 GB SSD/16 GB DDR4</td>\n",
       "      <td>4 Cell 57.5 Wh Lithium Ion</td>\n",
       "      <td>2560 x 1440</td>\n",
       "    </tr>\n",
       "    <tr>\n",
       "      <th>6</th>\n",
       "      <td>MSI Delta 15 Advantage Edition A5EFK-083IN Ryz...</td>\n",
       "      <td>₹ 188,990</td>\n",
       "      <td>Windows 11 Home</td>\n",
       "      <td>15.6\" (1920 X 1080)</td>\n",
       "      <td>AMD 5th Gen Ryzen 9-5900HX</td>\n",
       "      <td>AMD Radeon RX 6700M</td>\n",
       "      <td>1 TB SSD/16 GB DDR4</td>\n",
       "      <td>4 Cell</td>\n",
       "      <td>1920 x 1080</td>\n",
       "    </tr>\n",
       "    <tr>\n",
       "      <th>7</th>\n",
       "      <td>HP Omen 16-C0141AX Ryzen 9 5900HX (2022)</td>\n",
       "      <td>₹ 124,990</td>\n",
       "      <td>Windows 11 Home</td>\n",
       "      <td>16.1\" (2560 X 1440)</td>\n",
       "      <td>AMD Ryzen™ 9 5900HX</td>\n",
       "      <td>AMD Radeon™ RX 6600M</td>\n",
       "      <td>1 TB NVMe/16 GB DDR4</td>\n",
       "      <td>8 Hours</td>\n",
       "      <td>2560 x 1440</td>\n",
       "    </tr>\n",
       "    <tr>\n",
       "      <th>8</th>\n",
       "      <td>Lenovo Legion 5 Pro 82RF00MGIN 12th Gen Core i...</td>\n",
       "      <td>₹ 167,990</td>\n",
       "      <td>Windows 11 Home</td>\n",
       "      <td>16\" (2560 X 1600)</td>\n",
       "      <td>12th Gen Intel Core I7-12700H</td>\n",
       "      <td>NVIDIA GeForce RTX 3060</td>\n",
       "      <td>1 TB SSD/16 GB DDR5</td>\n",
       "      <td>4 Hours</td>\n",
       "      <td>2560 x 1600</td>\n",
       "    </tr>\n",
       "    <tr>\n",
       "      <th>9</th>\n",
       "      <td>DELL ALIENWARE M15 R5 GAMING Ryzen R7-5800H (2...</td>\n",
       "      <td>₹ 174,000</td>\n",
       "      <td>Windows 11 Home</td>\n",
       "      <td>15.6\" (1920 X 1080)</td>\n",
       "      <td>AMD Ryzen R7-5800H</td>\n",
       "      <td>NVIDIA GeForce RTX 3060</td>\n",
       "      <td>512 GB SSD/16 GB DDR4</td>\n",
       "      <td>86 Wh, integrated</td>\n",
       "      <td>1920 x 1080</td>\n",
       "    </tr>\n",
       "  </tbody>\n",
       "</table>\n",
       "</div>"
      ],
      "text/plain": [
       "                                        Laptop Model      Price  \\\n",
       "0  MSI Titan GT77 12UHS 12th Gen Core i9-12900HX ...          -   \n",
       "1  Lenovo Legion 7 82TD009KIN 12th Gen Core i9-12...  ₹ 503,890   \n",
       "2  Dell New Alienware x17 R2 D569944WIN9 12th Gen...  ₹ 389,990   \n",
       "3  Acer Predator Triton 500 SE PT516-52s 12th Gen...  ₹ 229,990   \n",
       "4  HP OMEN 16-B1371TX 12th Gen core i7-12700H (2022)  ₹ 176,490   \n",
       "5  Acer Nitro 5 AN515-45 NH.QBRSI.007 Ryzen 9-590...  ₹ 172,999   \n",
       "6  MSI Delta 15 Advantage Edition A5EFK-083IN Ryz...  ₹ 188,990   \n",
       "7           HP Omen 16-C0141AX Ryzen 9 5900HX (2022)  ₹ 124,990   \n",
       "8  Lenovo Legion 5 Pro 82RF00MGIN 12th Gen Core i...  ₹ 167,990   \n",
       "9  DELL ALIENWARE M15 R5 GAMING Ryzen R7-5800H (2...  ₹ 174,000   \n",
       "\n",
       "  Operating System              Display                        Processor  \\\n",
       "0  Windows 11 Home  17.3\" (3840 X 2160)  12th Gen Intel Core I9-12900HX    \n",
       "1  Windows 11 Home    16\" (2560 X 1600)  12th Gen Intel Core I9-12900HX    \n",
       "2  Windows 11 Home  17.3\" (1920 X 1080)   12th Gen Intel Core I9-12900H    \n",
       "3       Windows 11    16\" (2560 X 1600)   12th Gen Intel Core I7-12700H    \n",
       "4  Windows 11 Home  16.1\" (2560 X 1440)   12th Gen Intel Core I7-12700H    \n",
       "5  Windows 11 Home  15.6\" (2560 X 1440)              AMD Ryzen 9-5900HX    \n",
       "6  Windows 11 Home  15.6\" (1920 X 1080)      AMD 5th Gen Ryzen 9-5900HX    \n",
       "7  Windows 11 Home  16.1\" (2560 X 1440)             AMD Ryzen™ 9 5900HX    \n",
       "8  Windows 11 Home    16\" (2560 X 1600)   12th Gen Intel Core I7-12700H    \n",
       "9  Windows 11 Home  15.6\" (1920 X 1080)              AMD Ryzen R7-5800H    \n",
       "\n",
       "            Graphic Processor                 Memory  \\\n",
       "0                        DDR6    2 TB SSD/64 GB DDR5   \n",
       "1  NVIDIA GeForce RTX 3080 Ti    1 TB SSD/32 GB DDR4   \n",
       "2  NVIDIA GEFORCE RTX 3080 Ti    1 TB SSD/32 GB DDR5   \n",
       "3  NVIDIA GeForce RTX 3070 Ti    2 TB SSD/32 GB DDR5   \n",
       "4     NVIDIA GeForce RTX 3070     1 TB SSD/8 GB DDR5   \n",
       "5                        DDR6  512 GB SSD/16 GB DDR4   \n",
       "6         AMD Radeon RX 6700M    1 TB SSD/16 GB DDR4   \n",
       "7        AMD Radeon™ RX 6600M   1 TB NVMe/16 GB DDR4   \n",
       "8     NVIDIA GeForce RTX 3060    1 TB SSD/16 GB DDR5   \n",
       "9     NVIDIA GeForce RTX 3060  512 GB SSD/16 GB DDR4   \n",
       "\n",
       "                 Battery Type   Resolution  \n",
       "0                      4 Cell  3840 x 2160  \n",
       "1            3 Cell 99.99 WHr  2560 x 1600  \n",
       "2               6 Cell, 87 Wh  1920 x 1080  \n",
       "3                      4 Cell  2560 x 1600  \n",
       "4                      6 Cell  2560 x 1440  \n",
       "5  4 Cell 57.5 Wh Lithium Ion  2560 x 1440  \n",
       "6                      4 Cell  1920 x 1080  \n",
       "7                     8 Hours  2560 x 1440  \n",
       "8                     4 Hours  2560 x 1600  \n",
       "9           86 Wh, integrated  1920 x 1080  "
      ]
     },
     "execution_count": 33,
     "metadata": {},
     "output_type": "execute_result"
    }
   ],
   "source": [
    "df9=pd.DataFrame({'Laptop Model':product9,'Price':pr9,'Operating System':os9,'Display':dis9,'Processor':pro9,'Graphic Processor':gp9,'Memory':mem9,'Battery Type':bt9,'Resolution':res9})\n",
    "df9"
   ]
  }
 ],
 "metadata": {
  "kernelspec": {
   "display_name": "Python 3 (ipykernel)",
   "language": "python",
   "name": "python3"
  },
  "language_info": {
   "codemirror_mode": {
    "name": "ipython",
    "version": 3
   },
   "file_extension": ".py",
   "mimetype": "text/x-python",
   "name": "python",
   "nbconvert_exporter": "python",
   "pygments_lexer": "ipython3",
   "version": "3.9.13"
  }
 },
 "nbformat": 4,
 "nbformat_minor": 5
}
