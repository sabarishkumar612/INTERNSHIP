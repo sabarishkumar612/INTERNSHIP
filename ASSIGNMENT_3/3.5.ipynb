{
 "cells": [
  {
   "cell_type": "code",
   "execution_count": 2,
   "id": "237e8d71",
   "metadata": {},
   "outputs": [],
   "source": [
    "import selenium\n",
    "import pandas as pd\n",
    "import numpy as np\n",
    "from selenium import webdriver\n",
    "import warnings\n",
    "warnings.filterwarnings('ignore')\n",
    "from selenium.common.exceptions import StaleElementReferenceException, NoSuchElementException\n",
    "from selenium.webdriver.common.by import By\n",
    "import time\n",
    "import re"
   ]
  },
  {
   "cell_type": "code",
   "execution_count": 3,
   "id": "84bf4020",
   "metadata": {},
   "outputs": [],
   "source": [
    "driver8=webdriver.Chrome(r\"chromedriver.exe\") "
   ]
  },
  {
   "cell_type": "code",
   "execution_count": 4,
   "id": "e84fd709",
   "metadata": {},
   "outputs": [],
   "source": [
    "driver8.get(\"https://www.google.co.in/maps\") "
   ]
  },
  {
   "cell_type": "code",
   "execution_count": 5,
   "id": "effca8b2",
   "metadata": {},
   "outputs": [],
   "source": [
    "location8=driver8.find_element(By.XPATH,\"/html/body/div[3]/div[9]/div[3]/div[1]/div[1]/div/div[2]/form/input[1]\")\n",
    "location8.send_keys('Coorg') "
   ]
  },
  {
   "cell_type": "code",
   "execution_count": 6,
   "id": "2d880f5c",
   "metadata": {},
   "outputs": [],
   "source": [
    "search8=driver8.find_element(By.XPATH,\"/html/body/div[3]/div[9]/div[3]/div[1]/div[1]/div/div[2]/div[1]/button\")\n",
    "search8.click() "
   ]
  },
  {
   "cell_type": "code",
   "execution_count": 7,
   "id": "9b4b773a",
   "metadata": {},
   "outputs": [
    {
     "name": "stdout",
     "output_type": "stream",
     "text": [
      "URL EXTRACTED:  https://www.google.co.in/maps/place/Kodagu,+Karnataka/@11.6908405,77.9636817,15z/data=!4m5!3m4!1s0x3ba5aaa23e0be16b:0x50fd1f82359ea370!8m2!3d12.3374942!4d75.8069082\n",
      "Latitude = 11.6908405, Longitude = 77.9636817\n"
     ]
    }
   ],
   "source": [
    "try:\n",
    "    url_string=driver8.current_url\n",
    "    print(\"URL EXTRACTED: \",url_string)\n",
    "    lat_long=re.findall(r'@(.*)data',url_string)\n",
    "    if len(lat_long):\n",
    "        lat_long_list=lat_long[0].split(',')\n",
    "        if len(lat_long_list)>=2:\n",
    "            lat=lat_long_list[0]\n",
    "            long=lat_long_list[1]\n",
    "        print(\"Latitude = {}, Longitude = {}\".format(lat,long))\n",
    "except Exception as e:\n",
    "    print(\"Error:\",str(e))"
   ]
  }
 ],
 "metadata": {
  "kernelspec": {
   "display_name": "Python 3 (ipykernel)",
   "language": "python",
   "name": "python3"
  },
  "language_info": {
   "codemirror_mode": {
    "name": "ipython",
    "version": 3
   },
   "file_extension": ".py",
   "mimetype": "text/x-python",
   "name": "python",
   "nbconvert_exporter": "python",
   "pygments_lexer": "ipython3",
   "version": "3.9.13"
  }
 },
 "nbformat": 4,
 "nbformat_minor": 5
}
